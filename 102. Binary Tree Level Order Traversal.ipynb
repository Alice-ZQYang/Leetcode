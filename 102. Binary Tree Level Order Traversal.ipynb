{
 "cells": [
  {
   "cell_type": "markdown",
   "metadata": {},
   "source": [
    "## 102. Binary Tree Level Order Traversal\n",
    "\n",
    "Given a binary tree, return the level order traversal of its nodes' values. (ie, from left to right, level by level).\n",
    "\n",
    "For example:\n",
    "Given binary tree [3,9,20,null,null,15,7],\n",
    "```\n",
    "    3\n",
    "   / \\\n",
    "  9  20\n",
    "    /  \\\n",
    "   15   7\n",
    "```\n",
    "return its level order traversal as:\n",
    "[\n",
    "  [3],\n",
    "  [9,20],\n",
    "  [15,7]\n",
    "]"
   ]
  },
  {
   "cell_type": "markdown",
   "metadata": {},
   "source": [
    "### idea 1\n",
    "\n",
    "Using a queue to record visited nodes.\n",
    "For every level, we read the number of nodes of this level (the size of queue) as n\n",
    "Run queue.put() for n times\n",
    "Until queue is empty\n",
    "\n",
    "``Weakness:`` since we import queue, our running time is too much (faster than 10%)"
   ]
  },
  {
   "cell_type": "code",
   "execution_count": null,
   "metadata": {},
   "outputs": [],
   "source": [
    "# Definition for a binary tree node.\n",
    "# class TreeNode:\n",
    "#     def __init__(self, x):\n",
    "#         self.val = x\n",
    "#         self.left = None\n",
    "#         self.right = None\n",
    "\n",
    "class Solution:\n",
    "    def levelOrder(self, root: TreeNode) -> List[List[int]]:\n",
    "        if not root:\n",
    "            return []\n",
    "        \n",
    "        import queue\n",
    "        q = queue.Queue()\n",
    "        q.put(root)\n",
    "        trav = []\n",
    "        \n",
    "        while not q.empty():\n",
    "            n = q.qsize()\n",
    "            trav.append([])\n",
    "            for _ in range(n):\n",
    "                cur =q.get()\n",
    "                trav[-1].append(cur.val)\n",
    "                if cur.left:\n",
    "                    q.put(cur.left)\n",
    "                if cur.right:\n",
    "                    q.put(cur.right)       \n",
    "            \n",
    "        return trav"
   ]
  },
  {
   "cell_type": "markdown",
   "metadata": {},
   "source": [
    "### idea 2\n",
    "Use List as a queue, and record the level of every node (faster than 80.45%)"
   ]
  },
  {
   "cell_type": "code",
   "execution_count": null,
   "metadata": {},
   "outputs": [],
   "source": [
    "# Definition for a binary tree node.\n",
    "# class TreeNode:\n",
    "#     def __init__(self, x):\n",
    "#         self.val = x\n",
    "#         self.left = None\n",
    "#         self.right = None\n",
    "\n",
    "class Solution:\n",
    "    def levelOrder(self, root: TreeNode) -> List[List[int]]:\n",
    "        if not root:\n",
    "            return []\n",
    "        \n",
    "        q = []\n",
    "        q.append((root, 0))\n",
    "        cur_depth = 0\n",
    "        trav = [[]]\n",
    "        \n",
    "        while len(q) != 0:\n",
    "            node, depth = q.pop(0)\n",
    "            \n",
    "            if depth > cur_depth:\n",
    "                cur_depth = depth\n",
    "                trav.append([])\n",
    "                \n",
    "            trav[-1].append(node.val)\n",
    "            \n",
    "            if node.left:\n",
    "                q.append((node.left, depth+1))\n",
    "            if node.right:\n",
    "                q.append((node.right, depth+1))\n",
    "            \n",
    "        return trav"
   ]
  }
 ],
 "metadata": {
  "kernelspec": {
   "display_name": "Python 3",
   "language": "python",
   "name": "python3"
  },
  "language_info": {
   "codemirror_mode": {
    "name": "ipython",
    "version": 3
   },
   "file_extension": ".py",
   "mimetype": "text/x-python",
   "name": "python",
   "nbconvert_exporter": "python",
   "pygments_lexer": "ipython3",
   "version": "3.6.8"
  }
 },
 "nbformat": 4,
 "nbformat_minor": 2
}
