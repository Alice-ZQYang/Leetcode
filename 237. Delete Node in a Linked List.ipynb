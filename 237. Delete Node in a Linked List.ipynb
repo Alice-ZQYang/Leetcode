{
 "cells": [
  {
   "cell_type": "markdown",
   "metadata": {},
   "source": [
    "## 237. Delete Node in a Linked List ##\n",
    "\n",
    "Write a function to delete a node (except the tail) in a singly linked list, given only access to that node.\n",
    "\n",
    "Given linked list -- head = [4,5,1,9], which looks like following:\n",
    "\n",
    "\n",
    "\n",
    " \n",
    "\n",
    "Example 1:\n",
    "```\n",
    "Input: head = [4,5,1,9], node = 5\n",
    "Output: [4,1,9]\n",
    "Explanation: You are given the second node with value 5, the linked list should become 4 -> 1 -> 9 after calling your function.\n",
    "```\n",
    "Example 2:\n",
    "```\n",
    "Input: head = [4,5,1,9], node = 1\n",
    "Output: [4,5,9]\n",
    "Explanation: You are given the third node with value 1, the linked list should become 4 -> 5 -> 9 after calling your function.\n",
    "```\n",
    "\n",
    "Note:\n",
    "\n",
    "- The linked list will have at least two elements.\n",
    "- All of the nodes' values will be unique.\n",
    "- The given node will not be the tail and it will always be a valid node of the linked list.\n",
    "- Do not return anything from your function."
   ]
  },
  {
   "cell_type": "markdown",
   "metadata": {},
   "source": [
    "### 方法：与下一个节点交换 \n",
    " \n",
    "1. 从链表里删除一个节点 node 的最常见方法是修改之前节点的 next 指针，使其指向之后的节点。\n",
    "2. 因为我们**无法访问我们想要删除的节点之前的节点**，我们始终不能修改该节点的 next指针\n",
    "3. 相反，我们必须将想要删除的节点的值替换为它后面节点中的值，然后删除它之后的节点。\n",
    "4. 因为我们知道要**删除的节点不是列表的末尾**，所以我们可以保证这种方法是可行的\n"
   ]
  },
  {
   "cell_type": "code",
   "execution_count": null,
   "metadata": {},
   "outputs": [],
   "source": [
    "# Definition for singly-linked list.\n",
    "# class ListNode(object):\n",
    "#     def __init__(self, x):\n",
    "#         self.val = x\n",
    "#         self.next = None\n",
    "\n",
    "class Solution(object):\n",
    "    def deleteNode(self, node):\n",
    "        node.val = node.next.val \n",
    "        node.next = node.next.next"
   ]
  }
 ],
 "metadata": {
  "kernelspec": {
   "display_name": "Python 3",
   "language": "python",
   "name": "python3"
  },
  "language_info": {
   "codemirror_mode": {
    "name": "ipython",
    "version": 3
   },
   "file_extension": ".py",
   "mimetype": "text/x-python",
   "name": "python",
   "nbconvert_exporter": "python",
   "pygments_lexer": "ipython3",
   "version": "3.6.8"
  }
 },
 "nbformat": 4,
 "nbformat_minor": 2
}
