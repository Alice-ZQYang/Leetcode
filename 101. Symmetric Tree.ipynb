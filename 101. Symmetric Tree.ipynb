{
 "cells": [
  {
   "cell_type": "markdown",
   "metadata": {},
   "source": [
    "## 101. Symmetric Tree ##\n",
    "\n",
    "Given a binary tree, check whether it is a mirror of itself (ie, symmetric around its center).\n",
    "\n",
    "For example, this binary tree [1,2,2,3,4,4,3] is symmetric:\n",
    "```\n",
    "    1\n",
    "   / \\\n",
    "  2   2\n",
    " / \\ / \\\n",
    "3  4 4  3\n",
    "```\n",
    "\n",
    "But the following [1,2,2,null,3,null,3] is not:\n",
    "```\n",
    "    1\n",
    "   / \\\n",
    "  2   2\n",
    "   \\   \\\n",
    "   3    3\n",
    "```"
   ]
  },
  {
   "cell_type": "markdown",
   "metadata": {},
   "source": [
    "### Idea ###\n",
    "If a binary tree is symmetric, then the left sub tree and the right sub tree are symmetric"
   ]
  },
  {
   "cell_type": "code",
   "execution_count": null,
   "metadata": {},
   "outputs": [],
   "source": [
    "# Definition for a binary tree node.\n",
    "# class TreeNode:\n",
    "#     def __init__(self, x):\n",
    "#         self.val = x\n",
    "#         self.left = None\n",
    "#         self.right = None\n",
    "\n",
    "class Solution:\n",
    "    def isSymmetric(self, root: TreeNode) -> bool:\n",
    "        if not root:\n",
    "            return True\n",
    "        \n",
    "        return self.subSym(root.left, root.right)\n",
    "    \n",
    "    def subSym(self, left, right) -> bool:\n",
    "        if (not left) and (not right):\n",
    "            return True\n",
    "        \n",
    "        if (not left) or (not right):\n",
    "            return False\n",
    "        \n",
    "        if (left.val != right.val):\n",
    "            return False\n",
    "        \n",
    "        return self.subSym(left.left, right.right) and self.subSym(left.right, right.left)"
   ]
  },
  {
   "cell_type": "markdown",
   "metadata": {},
   "source": [
    "### What I have done but failed ###\n",
    "- Inorder Traversal for the tree\n",
    "- If the traversal list is symmetric --> the tree is symmetric\n",
    "- But here is a counterexample:\n",
    "```\n",
    "        1\n",
    "       / \\\n",
    "      2   2\n",
    "     /   / \n",
    "    2   2  \n",
    "```"
   ]
  },
  {
   "cell_type": "code",
   "execution_count": null,
   "metadata": {},
   "outputs": [],
   "source": [
    "# Definition for a binary tree node.\n",
    "# class TreeNode:\n",
    "#     def __init__(self, x):\n",
    "#         self.val = x\n",
    "#         self.left = None\n",
    "#         self.right = None\n",
    "\n",
    "class Solution:\n",
    "    def isSymmetric(self, root: TreeNode) -> bool:\n",
    "        \"\"\"\n",
    "        LDR\n",
    "        \"\"\"\n",
    "        if not root:\n",
    "            return True\n",
    "        \n",
    "        self.LDR_list = []\n",
    "        self.LDR(root)\n",
    "        n = len(self.LDR_list)\n",
    "        \n",
    "        for i in range(n // 2):\n",
    "            if self.LDR_list[i] != self.LDR_list[n-1-i]:\n",
    "                return False\n",
    "        return True\n",
    "    \n",
    "    def LDR(self, node: TreeNode) -> None:\n",
    "        if not node:\n",
    "            True   \n",
    "        self.LDR(node.left)       \n",
    "        self.LDR_list.append(node.val)      \n",
    "        self.LDR(node.right)"
   ]
  }
 ],
 "metadata": {
  "kernelspec": {
   "display_name": "Python 3",
   "language": "python",
   "name": "python3"
  },
  "language_info": {
   "codemirror_mode": {
    "name": "ipython",
    "version": 3
   },
   "file_extension": ".py",
   "mimetype": "text/x-python",
   "name": "python",
   "nbconvert_exporter": "python",
   "pygments_lexer": "ipython3",
   "version": "3.6.8"
  }
 },
 "nbformat": 4,
 "nbformat_minor": 2
}
